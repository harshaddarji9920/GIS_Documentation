{
 "cells": [
  {
   "cell_type": "markdown",
   "metadata": {},
   "source": [
    "# ArcGIS Enterprise"
   ]
  },
  {
   "cell_type": "markdown",
   "metadata": {},
   "source": [
    "<b><font size=\"3\" color=\"red\">What included in ArcGIS Enterprise:</font></b><br>\n",
    "<ol>\n",
    "    <li>ArcGIS Server</li>\n",
    "    <li>Portal for ArcGIS</li>\n",
    "    <li>ArcGIS Data stores</li>\n",
    "    <li>ArcGIS Web adaptor</li>\n",
    "</ol>"
   ]
  },
  {
   "cell_type": "markdown",
   "metadata": {},
   "source": [
    "<b><font size=\"3\" color=\"red\">ArcGIS Server roles and extensions</font></b><br>\n",
    "<ol>\n",
    "    <li>ArcGIS Server</li>\n",
    "    <li>ArcGIS Image Server</li>\n",
    "    <li>ArcGIS GeoAnalytics Server</li>\n",
    "    <li>ArcGIS GeoEvent Server</li>\n",
    "    <li>Business Analyst Server</li>\n",
    "</ol>\n"
   ]
  },
  {
   "cell_type": "markdown",
   "metadata": {},
   "source": []
  },
  {
   "cell_type": "code",
   "execution_count": null,
   "metadata": {},
   "outputs": [],
   "source": []
  }
 ],
 "metadata": {
  "kernelspec": {
   "display_name": "Python 3",
   "language": "python",
   "name": "python3"
  },
  "language_info": {
   "codemirror_mode": {
    "name": "ipython",
    "version": 3
   },
   "file_extension": ".py",
   "mimetype": "text/x-python",
   "name": "python",
   "nbconvert_exporter": "python",
   "pygments_lexer": "ipython3",
   "version": "3.6.4"
  }
 },
 "nbformat": 4,
 "nbformat_minor": 2
}
